{
 "cells": [
  {
   "cell_type": "code",
   "execution_count": 1,
   "metadata": {
    "collapsed": false
   },
   "outputs": [],
   "source": [
    "import pygame\n",
    "from pygame.locals import *\n",
    "import sys"
   ]
  },
  {
   "cell_type": "code",
   "execution_count": 2,
   "metadata": {
    "collapsed": true
   },
   "outputs": [],
   "source": [
    "BLACK = (0, 0, 0)\n",
    "WHITE = (255, 255, 255)"
   ]
  },
  {
   "cell_type": "code",
   "execution_count": 3,
   "metadata": {
    "collapsed": false
   },
   "outputs": [],
   "source": [
    "SCREEN_SIZE = [320, 400]\n",
    "BAR_SIZE = [20, 5]\n",
    "BALL_SIZE = [15, 15]"
   ]
  },
  {
   "cell_type": "code",
   "execution_count": 4,
   "metadata": {
    "collapsed": true
   },
   "outputs": [],
   "source": [
    "class Game(object):\n",
    "    def __init__(self):\n",
    "        pygame.init()\n",
    "        self.clock = pygame.time.Clock()\n",
    "        self.screen = pygame.display.set_mode(SCREEN_SIZE)\n",
    "        pygame.display.set_caption('Simple Game')\n",
    "        \n",
    "        self.ball_pos_x = SCREEN_SIZE[0]//2 - BALL_SIZE[0]/2\n",
    "        self.ball_pos_y = SCREEN_SIZE[1]//2 - BALL_SIZE[1]/2\n",
    "        \n",
    "        # ball移动方向\n",
    "        self.ball_dir_x = -1 # -1 = left 1 = right\n",
    "        self.ball_dir_y = -1 # -1 = up   1 = down\n",
    "        self.ball_pos = pygame.Rect(self.ball_pos_x, self.ball_pos_y, BALL_SIZE[0], BALL_SIZE[1])\n",
    "        \n",
    "        self.score = 0\n",
    "        self.bar_pos_x = SCREEN_SIZE[0]//2 - BAR_SIZE[0]//2\n",
    "        self.bar_pos = pygame.Rect(self.bar_pos_x, SCREEN_SIZE[1] - BAR_SIZE[1], BAR_SIZE[0], BAR_SIZE[1])\n",
    "    \n",
    "    def bar_move_left(self):\n",
    "        self.bar_pos_x = self.bar_pos_x - 2\n",
    "    \n",
    "    def bar_move_right(self):\n",
    "        self.bar_pos_x = self.bar_pos_x + 2\n",
    "        \n",
    "    def run(self):\n",
    "        pygame.mouse.set_visible(0) # make cursor invisible\n",
    "        \n",
    "        bar_move_left = False\n",
    "        bar_move_right = False\n",
    "        while True:\n",
    "            for event in pygame.event.get():\n",
    "                if event.type == QUIT:\n",
    "                    pygame.quit()\n",
    "                    sys.exit()\n",
    "                elif event.type == pygame.MOUSEBUTTONDOWN and event.button == 1: # 鼠标左键按下（左移）\n",
    "                    bar_move_left = True\n",
    "                elif event.type == pygame.MOUSEBUTTONUP and event.button == 1: # 鼠标左键释放\n",
    "                    bar_move_left = False\n",
    "                elif event.type == pygame.MOUSEBUTTONDOWN and event.button == 3: # 右键\n",
    "                    bar_move_right = True\n",
    "                elif event.type == pygame.MOUSEBUTTONUP and event.button == 3:\n",
    "                    bar_move_right = False\n",
    "            \n",
    "            if bar_move_left == True and bar_move_right == False:\n",
    "                self.bar_move_left()\n",
    "            if bar_move_left == False and bar_move_right == True:\n",
    "                self.bar_move_right()\n",
    "            \n",
    "            self.screen.fill(BLACK)\n",
    "            self.bar_pos.left = self.bar_pos_x\n",
    "            pygame.draw.rect(self.screen, WHITE, self.bar_pos)\n",
    "            \n",
    "            self.ball_pos.left += self.ball_dir_x * 2\n",
    "            self.ball_pos.bottom += self.ball_dir_y * 3\n",
    "            pygame.draw.rect(self.screen, WHITE, self.ball_pos)\n",
    "            \n",
    "            if self.ball_pos.top <= 0 or self.ball_pos.bottom >= (SCREEN_SIZE[1] - BAR_SIZE[1]+1):\n",
    "                self.ball_dir_y = self.ball_dir_y * -1\n",
    "            if self.ball_pos.left <= 0 or self.ball_pos.right >= (SCREEN_SIZE[0]):\n",
    "                self.ball_dir_x = self.ball_dir_x * -1\n",
    "            \n",
    "            if self.bar_pos.top <= self.ball_pos.bottom and (self.bar_pos.left < self.ball_pos.right and self.bar_pos.right > self.ball_pos.left):\n",
    "                self.score += 1\n",
    "                print('Score: ', self.score, end='\\r')\n",
    "            elif self.bar_pos.top <= self.ball_pos.bottom and (self.bar_pos.left >self.ball_pos.right or self.bar_pos.right < self.ball_pos.left):\n",
    "                print('Game Over: ', self.score)\n",
    "                return self.score\n",
    "            \n",
    "            pygame.display.update()\n",
    "            self.clock.tick(60)"
   ]
  },
  {
   "cell_type": "code",
   "execution_count": 5,
   "metadata": {
    "collapsed": false
   },
   "outputs": [
    {
     "name": "stdout",
     "output_type": "stream",
     "text": [
      "Game Over:  0\n"
     ]
    },
    {
     "data": {
      "text/plain": [
       "0"
      ]
     },
     "execution_count": 5,
     "metadata": {},
     "output_type": "execute_result"
    }
   ],
   "source": [
    "game = Game()\n",
    "game.run()"
   ]
  }
 ],
 "metadata": {
  "kernelspec": {
   "display_name": "Python 3",
   "language": "python",
   "name": "python3"
  },
  "language_info": {
   "codemirror_mode": {
    "name": "ipython",
    "version": 3
   },
   "file_extension": ".py",
   "mimetype": "text/x-python",
   "name": "python",
   "nbconvert_exporter": "python",
   "pygments_lexer": "ipython3",
   "version": "3.5.2"
  }
 },
 "nbformat": 4,
 "nbformat_minor": 2
}
